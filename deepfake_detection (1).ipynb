{
  "cells": [
    {
      "cell_type": "markdown",
      "source": [
        "#**Cloning Repo**"
      ],
      "metadata": {
        "id": "oKY83E9_2LP8"
      }
    },
    {
      "cell_type": "code",
      "source": [
        "!git clone https://github.com/asvspoof-challenge/2021.git"
      ],
      "metadata": {
        "colab": {
          "base_uri": "https://localhost:8080/"
        },
        "id": "s0V9u99Y64Tf",
        "outputId": "e278fb70-dbb0-4ea8-b9b7-910f63e43d4a"
      },
      "execution_count": null,
      "outputs": [
        {
          "output_type": "stream",
          "name": "stdout",
          "text": [
            "Cloning into '2021'...\n",
            "remote: Enumerating objects: 483, done.\u001b[K\n",
            "remote: Counting objects:   2% (1/43)\u001b[K\rremote: Counting objects:   4% (2/43)\u001b[K\rremote: Counting objects:   6% (3/43)\u001b[K\rremote: Counting objects:   9% (4/43)\u001b[K\rremote: Counting objects:  11% (5/43)\u001b[K\rremote: Counting objects:  13% (6/43)\u001b[K\rremote: Counting objects:  16% (7/43)\u001b[K\rremote: Counting objects:  18% (8/43)\u001b[K\rremote: Counting objects:  20% (9/43)\u001b[K\rremote: Counting objects:  23% (10/43)\u001b[K\rremote: Counting objects:  25% (11/43)\u001b[K\rremote: Counting objects:  27% (12/43)\u001b[K\rremote: Counting objects:  30% (13/43)\u001b[K\rremote: Counting objects:  32% (14/43)\u001b[K\rremote: Counting objects:  34% (15/43)\u001b[K\rremote: Counting objects:  37% (16/43)\u001b[K\rremote: Counting objects:  39% (17/43)\u001b[K\rremote: Counting objects:  41% (18/43)\u001b[K\rremote: Counting objects:  44% (19/43)\u001b[K\rremote: Counting objects:  46% (20/43)\u001b[K\rremote: Counting objects:  48% (21/43)\u001b[K\rremote: Counting objects:  51% (22/43)\u001b[K\rremote: Counting objects:  53% (23/43)\u001b[K\rremote: Counting objects:  55% (24/43)\u001b[K\rremote: Counting objects:  58% (25/43)\u001b[K\rremote: Counting objects:  60% (26/43)\u001b[K\rremote: Counting objects:  62% (27/43)\u001b[K\rremote: Counting objects:  65% (28/43)\u001b[K\rremote: Counting objects:  67% (29/43)\u001b[K\rremote: Counting objects:  69% (30/43)\u001b[K\rremote: Counting objects:  72% (31/43)\u001b[K\rremote: Counting objects:  74% (32/43)\u001b[K\rremote: Counting objects:  76% (33/43)\u001b[K\rremote: Counting objects:  79% (34/43)\u001b[K\rremote: Counting objects:  81% (35/43)\u001b[K\rremote: Counting objects:  83% (36/43)\u001b[K\rremote: Counting objects:  86% (37/43)\u001b[K\rremote: Counting objects:  88% (38/43)\u001b[K\rremote: Counting objects:  90% (39/43)\u001b[K\rremote: Counting objects:  93% (40/43)\u001b[K\rremote: Counting objects:  95% (41/43)\u001b[K\rremote: Counting objects:  97% (42/43)\u001b[K\rremote: Counting objects: 100% (43/43)\u001b[K\rremote: Counting objects: 100% (43/43), done.\u001b[K\n",
            "remote: Compressing objects: 100% (18/18), done.\u001b[K\n",
            "remote: Total 483 (delta 27), reused 25 (delta 25), pack-reused 440 (from 1)\u001b[K\n",
            "Receiving objects: 100% (483/483), 2.30 MiB | 13.55 MiB/s, done.\n",
            "Resolving deltas: 100% (168/168), done.\n"
          ]
        }
      ]
    },
    {
      "cell_type": "code",
      "source": [
        "cd 2021/LA/Baseline-RawNet2/"
      ],
      "metadata": {
        "colab": {
          "base_uri": "https://localhost:8080/"
        },
        "id": "kx9q1FVo7G8L",
        "outputId": "1fab5eba-6565-4b20-de0d-7fa9170ddf2e"
      },
      "execution_count": null,
      "outputs": [
        {
          "output_type": "stream",
          "name": "stdout",
          "text": [
            "/content/2021/LA/Baseline-RawNet2\n"
          ]
        }
      ]
    },
    {
      "cell_type": "markdown",
      "source": [
        "#**Creating Environment**"
      ],
      "metadata": {
        "id": "m4dc4YAJ2QCy"
      }
    },
    {
      "cell_type": "code",
      "source": [
        "!wget https://repo.anaconda.com/miniconda/Miniconda3-latest-Linux-x86_64.sh -O miniconda.sh\n",
        "!bash miniconda.sh -b -p /usr/local/miniconda\n",
        "!rm miniconda.sh\n"
      ],
      "metadata": {
        "colab": {
          "base_uri": "https://localhost:8080/"
        },
        "id": "0FkZFl7w7nbm",
        "outputId": "555ebcac-4d8e-4c4a-d82b-29b70cc5a45e"
      },
      "execution_count": null,
      "outputs": [
        {
          "output_type": "stream",
          "name": "stdout",
          "text": [
            "--2025-04-03 03:32:02--  https://repo.anaconda.com/miniconda/Miniconda3-latest-Linux-x86_64.sh\n",
            "Resolving repo.anaconda.com (repo.anaconda.com)... 104.16.32.241, 104.16.191.158, 2606:4700::6810:bf9e, ...\n",
            "Connecting to repo.anaconda.com (repo.anaconda.com)|104.16.32.241|:443... connected.\n",
            "HTTP request sent, awaiting response... 200 OK\n",
            "Length: 154615621 (147M) [application/octet-stream]\n",
            "Saving to: ‘miniconda.sh’\n",
            "\n",
            "miniconda.sh        100%[===================>] 147.45M   199MB/s    in 0.7s    \n",
            "\n",
            "2025-04-03 03:32:03 (199 MB/s) - ‘miniconda.sh’ saved [154615621/154615621]\n",
            "\n",
            "ERROR: File or directory already exists: '/usr/local/miniconda'\n",
            "If you want to update an existing installation, use the -u option.\n"
          ]
        }
      ]
    },
    {
      "cell_type": "code",
      "source": [
        "import os\n",
        "os.environ[\"PATH\"] = \"/usr/local/miniconda/bin:\" + os.environ[\"PATH\"]\n"
      ],
      "metadata": {
        "id": "iR-Kq1307zEk"
      },
      "execution_count": null,
      "outputs": []
    },
    {
      "cell_type": "code",
      "source": [
        "!conda create --name rawnet_anti_spoofing python=3.6.10 -y\n"
      ],
      "metadata": {
        "colab": {
          "base_uri": "https://localhost:8080/"
        },
        "id": "lMGBnP7l74tY",
        "outputId": "c0fbd4ea-c3ad-4aa6-8317-f3f06d39e713"
      },
      "execution_count": null,
      "outputs": [
        {
          "output_type": "stream",
          "name": "stdout",
          "text": [
            "Channels:\n",
            " - defaults\n",
            "Platform: linux-64\n",
            "Collecting package metadata (repodata.json): - \b\b\\ \b\b| \b\b/ \b\b- \b\b\\ \b\b| \b\bdone\n",
            "Solving environment: - \b\bdone\n",
            "\n",
            "## Package Plan ##\n",
            "\n",
            "  environment location: /usr/local/miniconda/envs/rawnet_anti_spoofing\n",
            "\n",
            "  added / updated specs:\n",
            "    - python=3.6.10\n",
            "\n",
            "\n",
            "The following NEW packages will be INSTALLED:\n",
            "\n",
            "  _libgcc_mutex      pkgs/main/linux-64::_libgcc_mutex-0.1-main \n",
            "  _openmp_mutex      pkgs/main/linux-64::_openmp_mutex-5.1-1_gnu \n",
            "  ca-certificates    pkgs/main/linux-64::ca-certificates-2025.2.25-h06a4308_0 \n",
            "  certifi            pkgs/main/linux-64::certifi-2021.5.30-py36h06a4308_0 \n",
            "  ld_impl_linux-64   pkgs/main/linux-64::ld_impl_linux-64-2.40-h12ee557_0 \n",
            "  libffi             pkgs/main/linux-64::libffi-3.3-he6710b0_2 \n",
            "  libgcc-ng          pkgs/main/linux-64::libgcc-ng-11.2.0-h1234567_1 \n",
            "  libgomp            pkgs/main/linux-64::libgomp-11.2.0-h1234567_1 \n",
            "  libstdcxx-ng       pkgs/main/linux-64::libstdcxx-ng-11.2.0-h1234567_1 \n",
            "  ncurses            pkgs/main/linux-64::ncurses-6.4-h6a678d5_0 \n",
            "  openssl            pkgs/main/linux-64::openssl-1.1.1w-h7f8727e_0 \n",
            "  pip                pkgs/main/linux-64::pip-21.2.2-py36h06a4308_0 \n",
            "  python             pkgs/main/linux-64::python-3.6.10-h7579374_2 \n",
            "  readline           pkgs/main/linux-64::readline-8.2-h5eee18b_0 \n",
            "  setuptools         pkgs/main/linux-64::setuptools-58.0.4-py36h06a4308_0 \n",
            "  sqlite             pkgs/main/linux-64::sqlite-3.45.3-h5eee18b_0 \n",
            "  tk                 pkgs/main/linux-64::tk-8.6.14-h39e8969_0 \n",
            "  wheel              pkgs/main/noarch::wheel-0.37.1-pyhd3eb1b0_0 \n",
            "  xz                 pkgs/main/linux-64::xz-5.6.4-h5eee18b_1 \n",
            "  zlib               pkgs/main/linux-64::zlib-1.2.13-h5eee18b_1 \n",
            "\n",
            "\n",
            "\n",
            "Downloading and Extracting Packages:\n",
            "\n",
            "Preparing transaction: - \b\b\\ \b\bdone\n",
            "Verifying transaction: / \b\b- \b\b\\ \b\b| \b\b/ \b\b- \b\b\\ \b\b| \b\b/ \b\b- \b\bdone\n",
            "Executing transaction: | \b\b/ \b\b- \b\b\\ \b\b| \b\b/ \b\b- \b\b\\ \b\b| \b\b/ \b\b- \b\b\\ \b\b| \b\b/ \b\b- \b\b\\ \b\b| \b\b/ \b\b- \b\b\\ \b\b| \b\b/ \b\b- \b\b\\ \b\b| \b\b/ \b\b- \b\b\\ \b\b| \b\b/ \b\b- \b\b\\ \b\b| \b\b/ \b\b- \b\b\\ \b\b| \b\b/ \b\b- \b\b\\ \b\b| \b\b/ \b\b- \b\b\\ \b\b| \b\b/ \b\b- \b\b\\ \b\b| \b\b/ \b\b- \b\b\\ \b\b| \b\b/ \b\b- \b\b\\ \b\b| \b\b/ \b\b- \b\b\\ \b\b| \b\b/ \b\b- \b\b\\ \b\b| \b\b/ \b\b- \b\b\\ \b\b| \b\b/ \b\b- \b\b\\ \b\b| \b\b/ \b\b- \b\b\\ \b\b| \b\b/ \b\b- \b\b\\ \b\b| \b\b/ \b\b- \b\b\\ \b\b| \b\b/ \b\b- \b\b\\ \b\b| \b\b/ \b\b- \b\b\\ \b\b| \b\b/ \b\b- \b\b\\ \b\b| \b\b/ \b\b- \b\b\\ \b\b| \b\b/ \b\b- \b\b\\ \b\b| \b\b/ \b\b- \b\b\\ \b\b| \b\b/ \b\b- \b\b\\ \b\b| \b\b/ \b\b- \b\b\\ \b\b| \b\b/ \b\b- \b\b\\ \b\bdone\n",
            "#\n",
            "# To activate this environment, use\n",
            "#\n",
            "#     $ conda activate rawnet_anti_spoofing\n",
            "#\n",
            "# To deactivate an active environment, use\n",
            "#\n",
            "#     $ conda deactivate\n",
            "\n"
          ]
        }
      ]
    },
    {
      "cell_type": "code",
      "source": [
        "!source activate rawnet_anti_spoofing\n"
      ],
      "metadata": {
        "id": "uPvBtvIt759z"
      },
      "execution_count": null,
      "outputs": []
    },
    {
      "cell_type": "code",
      "source": [
        "pip install -r requirements.txt"
      ],
      "metadata": {
        "colab": {
          "base_uri": "https://localhost:8080/"
        },
        "id": "ioQnX2Nj8Ld2",
        "outputId": "35ca5866-1e4e-4e4c-e982-d81537acf577"
      },
      "execution_count": null,
      "outputs": [
        {
          "output_type": "stream",
          "name": "stdout",
          "text": [
            "Collecting numba==0.48 (from -r requirements.txt (line 2))\n",
            "  Using cached numba-0.48.0.tar.gz (2.0 MB)\n",
            "  Preparing metadata (setup.py) ... \u001b[?25l\u001b[?25hdone\n",
            "Collecting numpy==1.17.0 (from -r requirements.txt (line 3))\n",
            "  Using cached numpy-1.17.0.zip (6.5 MB)\n",
            "  Preparing metadata (setup.py) ... \u001b[?25l\u001b[?25hdone\n",
            "Collecting librosa==0.7.2 (from -r requirements.txt (line 4))\n",
            "  Using cached librosa-0.7.2.tar.gz (1.6 MB)\n",
            "  Preparing metadata (setup.py) ... \u001b[?25l\u001b[?25hdone\n",
            "Collecting pyyaml==5.3.1 (from -r requirements.txt (line 5))\n",
            "  Using cached PyYAML-5.3.1.tar.gz (269 kB)\n",
            "  Preparing metadata (setup.py) ... \u001b[?25l\u001b[?25hdone\n",
            "Collecting tensorboardX==2.1 (from -r requirements.txt (line 6))\n",
            "  Using cached tensorboardX-2.1-py2.py3-none-any.whl.metadata (4.8 kB)\n",
            "Collecting llvmlite<0.32.0,>=0.31.0dev0 (from numba==0.48->-r requirements.txt (line 2))\n",
            "  Using cached llvmlite-0.31.0.tar.gz (110 kB)\n",
            "  Preparing metadata (setup.py) ... \u001b[?25l\u001b[?25hdone\n",
            "Requirement already satisfied: setuptools in /usr/local/miniconda/lib/python3.12/site-packages (from numba==0.48->-r requirements.txt (line 2)) (75.8.0)\n",
            "Requirement already satisfied: audioread>=2.0.0 in /usr/local/miniconda/lib/python3.12/site-packages (from librosa==0.7.2->-r requirements.txt (line 4)) (3.0.1)\n",
            "Requirement already satisfied: scipy>=1.0.0 in /usr/local/miniconda/lib/python3.12/site-packages (from librosa==0.7.2->-r requirements.txt (line 4)) (1.15.2)\n",
            "Requirement already satisfied: scikit-learn!=0.19.0,>=0.14.0 in /usr/local/miniconda/lib/python3.12/site-packages (from librosa==0.7.2->-r requirements.txt (line 4)) (1.6.1)\n",
            "Requirement already satisfied: joblib>=0.12 in /usr/local/miniconda/lib/python3.12/site-packages (from librosa==0.7.2->-r requirements.txt (line 4)) (1.4.2)\n",
            "Requirement already satisfied: decorator>=3.0.0 in /usr/local/miniconda/lib/python3.12/site-packages (from librosa==0.7.2->-r requirements.txt (line 4)) (5.2.1)\n",
            "Collecting six>=1.3 (from librosa==0.7.2->-r requirements.txt (line 4))\n",
            "  Using cached six-1.17.0-py2.py3-none-any.whl.metadata (1.7 kB)\n",
            "Collecting resampy>=0.2.2 (from librosa==0.7.2->-r requirements.txt (line 4))\n",
            "  Using cached resampy-0.4.3-py3-none-any.whl.metadata (3.0 kB)\n",
            "Requirement already satisfied: soundfile>=0.9.0 in /usr/local/miniconda/lib/python3.12/site-packages (from librosa==0.7.2->-r requirements.txt (line 4)) (0.13.1)\n",
            "Requirement already satisfied: protobuf>=3.8.0 in /usr/local/miniconda/lib/python3.12/site-packages (from tensorboardX==2.1->-r requirements.txt (line 6)) (6.30.2)\n",
            "INFO: pip is looking at multiple versions of resampy to determine which version is compatible with other requirements. This could take a while.\n",
            "  Using cached resampy-0.4.2-py3-none-any.whl.metadata (2.8 kB)\n",
            "  Using cached resampy-0.4.1-py3-none-any.whl.metadata (2.8 kB)\n",
            "  Using cached resampy-0.4.0-py3-none-any.whl.metadata (2.8 kB)\n",
            "  Using cached resampy-0.3.1-py3-none-any.whl.metadata (2.8 kB)\n",
            "INFO: pip is looking at multiple versions of scikit-learn to determine which version is compatible with other requirements. This could take a while.\n",
            "Collecting scikit-learn!=0.19.0,>=0.14.0 (from librosa==0.7.2->-r requirements.txt (line 4))\n",
            "  Using cached scikit_learn-1.6.0-cp312-cp312-manylinux_2_17_x86_64.manylinux2014_x86_64.whl.metadata (18 kB)\n",
            "  Using cached scikit_learn-1.5.2-cp312-cp312-manylinux_2_17_x86_64.manylinux2014_x86_64.whl.metadata (13 kB)\n",
            "  Using cached scikit_learn-1.5.1-cp312-cp312-manylinux_2_17_x86_64.manylinux2014_x86_64.whl.metadata (12 kB)\n",
            "  Using cached scikit_learn-1.5.0-cp312-cp312-manylinux_2_17_x86_64.manylinux2014_x86_64.whl.metadata (11 kB)\n",
            "  Using cached scikit_learn-1.4.2-cp312-cp312-manylinux_2_17_x86_64.manylinux2014_x86_64.whl.metadata (11 kB)\n",
            "  Using cached scikit_learn-1.4.1.post1-cp312-cp312-manylinux_2_17_x86_64.manylinux2014_x86_64.whl.metadata (11 kB)\n",
            "  Using cached scikit_learn-1.4.0-1-cp312-cp312-manylinux_2_17_x86_64.manylinux2014_x86_64.whl.metadata (11 kB)\n",
            "INFO: pip is still looking at multiple versions of scikit-learn to determine which version is compatible with other requirements. This could take a while.\n",
            "  Using cached scikit_learn-1.3.2-cp312-cp312-manylinux_2_17_x86_64.manylinux2014_x86_64.whl.metadata (11 kB)\n",
            "  Using cached scikit_learn-1.3.1-cp312-cp312-manylinux_2_17_x86_64.manylinux2014_x86_64.whl.metadata (11 kB)\n",
            "  Using cached scikit-learn-1.3.0.tar.gz (7.5 MB)\n",
            "  Installing build dependencies ... \u001b[?25l\u001b[?25hdone\n",
            "  Getting requirements to build wheel ... \u001b[?25l\u001b[?25hdone\n",
            "  Preparing metadata (pyproject.toml) ... \u001b[?25l\u001b[?25hdone\n",
            "  Using cached scikit-learn-1.2.2.tar.gz (7.3 MB)\n",
            "  Installing build dependencies ... \u001b[?25l\u001b[?25hdone\n",
            "  Getting requirements to build wheel ... \u001b[?25l\u001b[?25hdone\n",
            "  Preparing metadata (pyproject.toml) ... \u001b[?25l\u001b[?25hdone\n",
            "  Using cached scikit-learn-1.2.1.tar.gz (7.3 MB)\n",
            "  Installing build dependencies ... \u001b[?25l\u001b[?25hdone\n",
            "  \u001b[1;31merror\u001b[0m: \u001b[1msubprocess-exited-with-error\u001b[0m\n",
            "  \n",
            "  \u001b[31m×\u001b[0m \u001b[32mGetting requirements to build wheel\u001b[0m did not run successfully.\n",
            "  \u001b[31m│\u001b[0m exit code: \u001b[1;36m1\u001b[0m\n",
            "  \u001b[31m╰─>\u001b[0m See above for output.\n",
            "  \n",
            "  \u001b[1;35mnote\u001b[0m: This error originates from a subprocess, and is likely not a problem with pip.\n",
            "  Getting requirements to build wheel ... \u001b[?25l\u001b[?25herror\n",
            "\u001b[1;31merror\u001b[0m: \u001b[1msubprocess-exited-with-error\u001b[0m\n",
            "\n",
            "\u001b[31m×\u001b[0m \u001b[32mGetting requirements to build wheel\u001b[0m did not run successfully.\n",
            "\u001b[31m│\u001b[0m exit code: \u001b[1;36m1\u001b[0m\n",
            "\u001b[31m╰─>\u001b[0m See above for output.\n",
            "\n",
            "\u001b[1;35mnote\u001b[0m: This error originates from a subprocess, and is likely not a problem with pip.\n"
          ]
        }
      ]
    },
    {
      "cell_type": "code",
      "source": [
        "pip install tensorboardX"
      ],
      "metadata": {
        "colab": {
          "base_uri": "https://localhost:8080/"
        },
        "id": "5CRwYeiC9opl",
        "outputId": "16a11830-f1d1-44cc-bc4d-91331f07e5bd"
      },
      "execution_count": null,
      "outputs": [
        {
          "output_type": "stream",
          "name": "stdout",
          "text": [
            "Requirement already satisfied: tensorboardX in /usr/local/miniconda/lib/python3.12/site-packages (2.6.2.2)\n",
            "Requirement already satisfied: numpy in /usr/local/miniconda/lib/python3.12/site-packages (from tensorboardX) (2.0.1)\n",
            "Requirement already satisfied: packaging in /usr/local/miniconda/lib/python3.12/site-packages (from tensorboardX) (24.2)\n",
            "Requirement already satisfied: protobuf>=3.20 in /usr/local/miniconda/lib/python3.12/site-packages (from tensorboardX) (6.30.2)\n"
          ]
        }
      ]
    },
    {
      "cell_type": "code",
      "source": [
        "!pip uninstall torch -y\n",
        "!pip install torch torchvision torchaudio --index-url https://download.pytorch.org/whl/cu121\n"
      ],
      "metadata": {
        "colab": {
          "base_uri": "https://localhost:8080/"
        },
        "id": "xTgPaVi5AHhQ",
        "outputId": "344d7ae1-8594-4fd4-b568-8dec90dc4fc2"
      },
      "execution_count": null,
      "outputs": [
        {
          "output_type": "stream",
          "name": "stdout",
          "text": [
            "Found existing installation: torch 2.5.1+cu121\n",
            "Uninstalling torch-2.5.1+cu121:\n",
            "  Successfully uninstalled torch-2.5.1+cu121\n",
            "Looking in indexes: https://download.pytorch.org/whl/cu121\n",
            "Collecting torch\n",
            "  Using cached https://download.pytorch.org/whl/cu121/torch-2.5.1%2Bcu121-cp312-cp312-linux_x86_64.whl (780.4 MB)\n",
            "Requirement already satisfied: torchvision in /usr/local/miniconda/lib/python3.12/site-packages (0.20.1)\n",
            "Requirement already satisfied: torchaudio in /usr/local/miniconda/lib/python3.12/site-packages (2.5.1+cu121)\n",
            "Requirement already satisfied: filelock in /usr/local/miniconda/lib/python3.12/site-packages (from torch) (3.13.1)\n",
            "Requirement already satisfied: typing-extensions>=4.8.0 in /usr/local/miniconda/lib/python3.12/site-packages (from torch) (4.12.2)\n",
            "Requirement already satisfied: networkx in /usr/local/miniconda/lib/python3.12/site-packages (from torch) (3.4.2)\n",
            "Requirement already satisfied: jinja2 in /usr/local/miniconda/lib/python3.12/site-packages (from torch) (3.1.6)\n",
            "Requirement already satisfied: fsspec in /usr/local/miniconda/lib/python3.12/site-packages (from torch) (2024.6.1)\n",
            "Requirement already satisfied: nvidia-cuda-nvrtc-cu12==12.1.105 in /usr/local/miniconda/lib/python3.12/site-packages (from torch) (12.1.105)\n",
            "Requirement already satisfied: nvidia-cuda-runtime-cu12==12.1.105 in /usr/local/miniconda/lib/python3.12/site-packages (from torch) (12.1.105)\n",
            "Requirement already satisfied: nvidia-cuda-cupti-cu12==12.1.105 in /usr/local/miniconda/lib/python3.12/site-packages (from torch) (12.1.105)\n",
            "Requirement already satisfied: nvidia-cudnn-cu12==9.1.0.70 in /usr/local/miniconda/lib/python3.12/site-packages (from torch) (9.1.0.70)\n",
            "Requirement already satisfied: nvidia-cublas-cu12==12.1.3.1 in /usr/local/miniconda/lib/python3.12/site-packages (from torch) (12.1.3.1)\n",
            "Requirement already satisfied: nvidia-cufft-cu12==11.0.2.54 in /usr/local/miniconda/lib/python3.12/site-packages (from torch) (11.0.2.54)\n",
            "Requirement already satisfied: nvidia-curand-cu12==10.3.2.106 in /usr/local/miniconda/lib/python3.12/site-packages (from torch) (10.3.2.106)\n",
            "Requirement already satisfied: nvidia-cusolver-cu12==11.4.5.107 in /usr/local/miniconda/lib/python3.12/site-packages (from torch) (11.4.5.107)\n",
            "Requirement already satisfied: nvidia-cusparse-cu12==12.1.0.106 in /usr/local/miniconda/lib/python3.12/site-packages (from torch) (12.1.0.106)\n",
            "Requirement already satisfied: nvidia-nccl-cu12==2.21.5 in /usr/local/miniconda/lib/python3.12/site-packages (from torch) (2.21.5)\n",
            "Requirement already satisfied: nvidia-nvtx-cu12==12.1.105 in /usr/local/miniconda/lib/python3.12/site-packages (from torch) (12.1.105)\n",
            "Requirement already satisfied: triton==3.1.0 in /usr/local/miniconda/lib/python3.12/site-packages (from torch) (3.1.0)\n",
            "Requirement already satisfied: setuptools in /usr/local/miniconda/lib/python3.12/site-packages (from torch) (75.8.0)\n",
            "Requirement already satisfied: sympy==1.13.1 in /usr/local/miniconda/lib/python3.12/site-packages (from torch) (1.13.1)\n",
            "Requirement already satisfied: nvidia-nvjitlink-cu12 in /usr/local/miniconda/lib/python3.12/site-packages (from nvidia-cusolver-cu12==11.4.5.107->torch) (12.1.105)\n",
            "Requirement already satisfied: mpmath<1.4,>=1.1.0 in /usr/local/miniconda/lib/python3.12/site-packages (from sympy==1.13.1->torch) (1.3.0)\n",
            "Requirement already satisfied: numpy in /usr/local/miniconda/lib/python3.12/site-packages (from torchvision) (2.0.1)\n",
            "Requirement already satisfied: pillow!=8.3.*,>=5.3.0 in /usr/local/miniconda/lib/python3.12/site-packages (from torchvision) (11.1.0)\n",
            "Requirement already satisfied: MarkupSafe>=2.0 in /usr/local/miniconda/lib/python3.12/site-packages (from jinja2->torch) (3.0.2)\n",
            "Installing collected packages: torch\n",
            "Successfully installed torch-2.5.1+cu121\n"
          ]
        }
      ]
    },
    {
      "cell_type": "markdown",
      "source": [
        "#**Model training**"
      ],
      "metadata": {
        "id": "7fcWI6NB2YEo"
      }
    },
    {
      "cell_type": "code",
      "source": [
        "!python  main.py --track=LA --loss=CCE --lr=0.0001 --batch_size=32\n"
      ],
      "metadata": {
        "colab": {
          "base_uri": "https://localhost:8080/"
        },
        "id": "4jI28wjF8cOQ",
        "outputId": "8d94edbd-9677-4e33-d324-cac2e330ea8d"
      },
      "execution_count": null,
      "outputs": [
        {
          "output_type": "stream",
          "name": "stdout",
          "text": [
            "Device: cuda\n",
            "no. of training trials 25380\n",
            "no. of validation trials 24844\n",
            " \t 77.49\n",
            "0 - 0.426578476959264 - 77.56 - 80.23\n",
            " \t 93.98\n",
            "1 - 0.1509037029513711 - 93.97 - 94.60\n",
            " \t 97.37\n",
            "2 - 0.0775944154863281 - 97.38 - 94.67\n",
            " \t 97.82\n",
            "3 - 0.06103604360454079 - 97.82 - 97.38\n",
            " \t 98.55\n",
            "4 - 0.04506665454348499 - 98.53 - 95.94\n",
            " \t 98.88\n",
            "5 - 0.03893108662634099 - 98.88 - 96.50\n",
            " \t 98.94\n",
            "6 - 0.031317969353785585 - 98.94 - 99.18\n",
            "best model find at epoch 6\n",
            " \t 99.22\n",
            "7 - 0.027400857857870005 - 99.23 - 98.85\n",
            " \t 99.14\n",
            "8 - 0.027604127072902815 - 99.14 - 98.25\n",
            " \t 99.38\n",
            "9 - 0.021684235844639178 - 99.38 - 99.29\n",
            "best model find at epoch 9\n",
            " \t 99.67\n",
            "10 - 0.011577669197209997 - 99.67 - 93.70\n",
            " \t 99.27\n",
            "11 - 0.023075993666901357 - 99.27 - 99.30\n",
            "best model find at epoch 11\n",
            " \t 99.28\n",
            "12 - 0.020619693792582296 - 99.29 - 95.31\n",
            " \t 99.64\n",
            "13 - 0.012379929359472611 - 99.64 - 99.45\n",
            "best model find at epoch 13\n",
            " \t 99.45\n",
            "14 - 0.016655665706338463 - 99.45 - 99.22\n",
            " \t 99.68\n",
            "15 - 0.010355531795821857 - 99.68 - 99.46\n",
            "best model find at epoch 15\n",
            " \t 99.40\n",
            "16 - 0.017746224382495956 - 99.40 - 99.32\n",
            " \t 99.64\n",
            "17 - 0.012219557193915176 - 99.64 - 99.34\n",
            " \t 99.55\n",
            "18 - 0.014050322956800955 - 99.55 - 98.20\n",
            " \t 99.75\n",
            "19 - 0.008766439274272423 - 99.75 - 99.38\n",
            " \t 99.74\n",
            "20 - 0.008763068917371088 - 99.74 - 99.39\n",
            " \t 99.61\n",
            "21 - 0.013339010698089217 - 99.61 - 99.25\n",
            " \t 99.70\n",
            "22 - 0.00966850346484251 - 99.70 - 99.07\n",
            " \t 99.72\n",
            "23 - 0.008975317210652787 - 99.72 - 98.84\n",
            " \t 99.72\n",
            "24 - 0.010542701769135762 - 99.71 - 99.02\n",
            " \t 99.79\n",
            "25 - 0.0069333456600765096 - 99.79 - 99.50\n",
            "best model find at epoch 25\n",
            " \t 99.66\n",
            "26 - 0.009751066430412215 - 99.66 - 98.92\n",
            " \t 99.75\n",
            "27 - 0.007349781332791187 - 99.75 - 99.59\n",
            "best model find at epoch 27\n",
            " \t 99.85\n",
            "28 - 0.005398201552101567 - 99.85 - 99.65\n",
            "best model find at epoch 28\n",
            " \t 99.72\n",
            "29 - 0.010830808629970603 - 99.72 - 99.09\n",
            " \t 99.86\n",
            "30 - 0.004497273099902817 - 99.86 - 99.38\n",
            " \t 99.72\n",
            "31 - 0.011458913872335146 - 99.72 - 99.60\n",
            " \t 99.82\n",
            "32 - 0.004956579056089515 - 99.82 - 99.42\n",
            " \t 99.86\n",
            "33 - 0.005281333315998848 - 99.86 - 99.47\n",
            " \t 99.70\n",
            "34 - 0.010551395274343704 - 99.70 - 99.25\n",
            " \t 99.92\n",
            "35 - 0.0030935098088104764 - 99.92 - 99.61\n",
            " \t 99.73\n",
            "36 - 0.010941138726393787 - 99.73 - 99.25\n",
            " \t 99.92\n",
            "37 - 0.002421675052195368 - 99.92 - 99.66\n",
            "best model find at epoch 37\n",
            " \t 99.79\n",
            "38 - 0.006285322803308238 - 99.79 - 99.39\n",
            " \t 99.74\n",
            "39 - 0.009241114540218035 - 99.74 - 99.48\n",
            " \t 99.84\n",
            "40 - 0.005061947941393685 - 99.84 - 99.22\n",
            " \t 99.79\n",
            "41 - 0.006960078254894747 - 99.79 - 99.27\n",
            " \t 99.93\n",
            "42 - 0.002869686226854889 - 99.93 - 99.68\n",
            "best model find at epoch 42\n",
            " \t 99.99\n",
            "43 - 0.0001980186045880702 - 99.99 - 99.56\n",
            " \t 99.87\n",
            "44 - 0.00475436657166057 - 99.87 - 99.44\n",
            " \t 99.67\n",
            "45 - 0.011194028152527255 - 99.67 - 99.55\n",
            " \t 99.91\n",
            "46 - 0.0036665706783220956 - 99.91 - 99.59\n",
            " \t 99.83\n",
            "47 - 0.005622837888919623 - 99.83 - 99.01\n",
            " \t 99.77\n",
            "48 - 0.005493194865432287 - 99.78 - 99.09\n",
            " \t 99.85\n",
            "49 - 0.00518871128316902 - 99.85 - 99.69\n",
            "best model find at epoch 49\n",
            " \t 99.93\n",
            "50 - 0.002154908179075255 - 99.93 - 98.21\n",
            " \t 99.92\n",
            "51 - 0.004020940708941857 - 99.92 - 98.55\n",
            " \t 99.71\n",
            "52 - 0.008757011233272492 - 99.71 - 99.46\n",
            " \t 99.90\n",
            "53 - 0.002678475365349176 - 99.90 - 99.66\n",
            " \t 99.97\n",
            "54 - 0.0004920234563688985 - 99.97 - 98.94\n",
            " \t 99.86\n",
            "55 - 0.005485871630719702 - 99.86 - 99.63\n",
            " \t 99.87\n",
            "56 - 0.007437318021125054 - 99.87 - 99.33\n",
            " \t 99.86\n",
            "57 - 0.00459212940190758 - 99.86 - 99.42\n",
            " \t 99.80\n",
            "58 - 0.0065309744396302785 - 99.80 - 98.81\n",
            " \t 99.84\n",
            "59 - 0.004438378984887118 - 99.84 - 99.55\n",
            " \t 99.84\n",
            "60 - 0.0051684214298937875 - 99.84 - 99.37\n",
            " \t 99.91\n",
            "61 - 0.002806661654277781 - 99.91 - 99.69\n",
            "best model find at epoch 61\n",
            " \t 99.97\n",
            "62 - 0.0007992335796690051 - 99.97 - 99.61\n",
            " \t 100.00\n",
            "63 - 4.9304524739306844e-05 - 100.00 - 99.57\n",
            " \t 100.00\n",
            "64 - 5.151788437715104e-05 - 100.00 - 99.70\n",
            "best model find at epoch 64\n",
            " \t 99.66\n",
            "65 - 0.014693435982003383 - 99.66 - 99.52\n",
            " \t 99.87\n",
            "66 - 0.0055682680026443035 - 99.87 - 99.55\n",
            " \t 99.93\n",
            "67 - 0.002270518987432269 - 99.93 - 99.66\n",
            " \t 99.75\n",
            "68 - 0.011659922798498241 - 99.75 - 99.56\n",
            " \t 99.92\n",
            "69 - 0.0026274059937441857 - 99.92 - 99.54\n",
            " \t 99.82\n",
            "70 - 0.006013506519391793 - 99.82 - 99.55\n",
            " \t 99.91\n",
            "71 - 0.0029521459955400594 - 99.91 - 99.63\n",
            " \t 99.86\n",
            "72 - 0.003973579354736746 - 99.85 - 99.12\n",
            " \t 99.95\n",
            "73 - 0.0012477107972234099 - 99.95 - 99.58\n",
            " \t 99.94\n",
            "74 - 0.0025818152847967633 - 99.94 - 99.31\n",
            " \t 99.73\n",
            "75 - 0.009184982269407968 - 99.74 - 99.66\n",
            " \t 99.94\n",
            "76 - 0.002157597044448475 - 99.94 - 99.70\n",
            " \t 99.93\n",
            "77 - 0.0023069125049828857 - 99.93 - 99.58\n",
            " \t 99.85\n",
            "78 - 0.004690824857351722 - 99.85 - 99.26\n",
            " \t 99.94\n",
            "79 - 0.0018777247641894802 - 99.94 - 99.47\n",
            " \t 99.83\n",
            "80 - 0.007352919296565352 - 99.83 - 99.55\n",
            " \t 99.91\n",
            "81 - 0.0027127571740440536 - 99.91 - 99.42\n",
            " \t 99.96\n",
            "82 - 0.0011996433600035715 - 99.96 - 99.66\n",
            " \t 99.87\n",
            "83 - 0.005135140608859891 - 99.87 - 99.71\n",
            "best model find at epoch 83\n",
            " \t 99.95\n",
            "84 - 0.0017230924019139113 - 99.95 - 99.67\n",
            " \t 100.00\n",
            "85 - 4.719350109951464e-05 - 100.00 - 99.56\n",
            " \t 99.98\n",
            "86 - 0.0005625158992499615 - 99.98 - 99.19\n",
            " \t 99.79\n",
            "87 - 0.007516000706179361 - 99.79 - 99.62\n",
            " \t 99.89\n",
            "88 - 0.003027995803623855 - 99.89 - 99.64\n",
            " \t 99.92\n",
            "89 - 0.003052606207771023 - 99.93 - 98.93\n",
            " \t 99.87\n",
            "90 - 0.004029468171536053 - 99.87 - 99.71\n",
            " \t 99.93\n",
            "91 - 0.0033494248041846925 - 99.93 - 99.61\n",
            " \t 99.96\n",
            "92 - 0.0014226472257015243 - 99.96 - 99.58\n",
            " \t 99.81\n",
            "93 - 0.005886925014183453 - 99.81 - 99.50\n",
            " \t 99.96\n",
            "94 - 0.001320313745171575 - 99.96 - 99.79\n",
            "best model find at epoch 94\n",
            " \t 99.97\n",
            "95 - 0.0010873511823295775 - 99.97 - 99.67\n",
            " \t 99.71"
          ]
        }
      ]
    },
    {
      "cell_type": "markdown",
      "source": [
        "#**Evaluation on val set**"
      ],
      "metadata": {
        "id": "rnOaboUQ2bFs"
      }
    },
    {
      "cell_type": "code",
      "source": [
        "!python main.py --track=LA --loss=CCE --is_eval --eval --model_path='/content/2021/LA/Baseline-RawNet2/models/model_LA_CCE_100_32_0.0001/epoch_99.pth' --eval_output='eval_CM_scores.txt'"
      ],
      "metadata": {
        "colab": {
          "base_uri": "https://localhost:8080/"
        },
        "id": "ZtwMKu1vBq2H",
        "outputId": "15b6eeb1-bd2d-4960-88a7-e82b4d34c09f"
      },
      "execution_count": null,
      "outputs": [
        {
          "output_type": "stream",
          "name": "stdout",
          "text": [
            "Device: cuda\n",
            "/content/2021/LA/Baseline-RawNet2/main.py:190: FutureWarning: You are using `torch.load` with `weights_only=False` (the current default value), which uses the default pickle module implicitly. It is possible to construct malicious pickle data which will execute arbitrary code during unpickling (See https://github.com/pytorch/pytorch/blob/main/SECURITY.md#untrusted-models for more details). In a future release, the default value for `weights_only` will be flipped to `True`. This limits the functions that could be executed during unpickling. Arbitrary objects will no longer be allowed to be loaded via this mode unless they are explicitly allowlisted by the user via `torch.serialization.add_safe_globals`. We recommend you start setting `weights_only=True` for any use case where you don't have full control of the loaded file. Please open an issue on GitHub for any issues related to this experimental feature.\n",
            "  model.load_state_dict(torch.load(args.model_path,map_location=device))\n",
            "Model loaded : /content/2021/LA/Baseline-RawNet2/models/model_LA_CCE_100_32_0.0001/epoch_99.pth\n",
            "Scores saved to eval_CM_scores.txt\n"
          ]
        }
      ]
    },
    {
      "cell_type": "markdown",
      "source": [
        "#**inference on dev set**"
      ],
      "metadata": {
        "id": "wddfEbIQ2edY"
      }
    },
    {
      "cell_type": "code",
      "source": [
        "!python main.py --track=LA --loss=CCE --eval --model_path='/content/2021/LA/Baseline-RawNet2/models/model_LA_CCE_100_32_0.0001/epoch_99.pth' --eval_output='dev_CM_scores.txt'"
      ],
      "metadata": {
        "id": "gDeZ8odj6PnM",
        "colab": {
          "base_uri": "https://localhost:8080/"
        },
        "outputId": "375bf9ba-b408-4863-e815-447081cf659f"
      },
      "execution_count": null,
      "outputs": [
        {
          "output_type": "stream",
          "name": "stdout",
          "text": [
            "Device: cuda\n",
            "/content/2021/LA/Baseline-RawNet2/main.py:190: FutureWarning: You are using `torch.load` with `weights_only=False` (the current default value), which uses the default pickle module implicitly. It is possible to construct malicious pickle data which will execute arbitrary code during unpickling (See https://github.com/pytorch/pytorch/blob/main/SECURITY.md#untrusted-models for more details). In a future release, the default value for `weights_only` will be flipped to `True`. This limits the functions that could be executed during unpickling. Arbitrary objects will no longer be allowed to be loaded via this mode unless they are explicitly allowlisted by the user via `torch.serialization.add_safe_globals`. We recommend you start setting `weights_only=True` for any use case where you don't have full control of the loaded file. Please open an issue on GitHub for any issues related to this experimental feature.\n",
            "  model.load_state_dict(torch.load(args.model_path,map_location=device))\n",
            "Model loaded : /content/2021/LA/Baseline-RawNet2/models/model_LA_CCE_100_32_0.0001/epoch_99.pth\n",
            "Scores saved to dev_CM_scores.txt\n"
          ]
        }
      ]
    }
  ],
  "metadata": {
    "colab": {
      "provenance": [],
      "name": "deepfake_detection.ipynb",
      "gpuType": "A100",
      "collapsed_sections": [
        "oKY83E9_2LP8",
        "m4dc4YAJ2QCy",
        "7fcWI6NB2YEo",
        "rnOaboUQ2bFs"
      ]
    },
    "kernelspec": {
      "display_name": "Python 3",
      "language": "python",
      "name": "python3"
    },
    "language_info": {
      "codemirror_mode": {
        "name": "ipython",
        "version": 3
      },
      "file_extension": ".py",
      "mimetype": "text/x-python",
      "name": "python",
      "nbconvert_exporter": "python",
      "pygments_lexer": "ipython3",
      "version": "3.11.4"
    },
    "accelerator": "GPU"
  },
  "nbformat": 4,
  "nbformat_minor": 0
}